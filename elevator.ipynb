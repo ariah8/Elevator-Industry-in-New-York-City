{
 "cells": [
  {
   "cell_type": "code",
   "execution_count": 1,
   "id": "79e46dbd",
   "metadata": {},
   "outputs": [],
   "source": [
    "import pandas as pd\n",
    "import seaborn as sns\n",
    "import matplotlib.pyplot as plt\n",
    "from scipy.stats import chi2_contingency"
   ]
  },
  {
   "cell_type": "code",
   "execution_count": 2,
   "id": "45c2d708",
   "metadata": {},
   "outputs": [
    {
     "name": "stderr",
     "output_type": "stream",
     "text": [
      "/var/folders/3b/x_32pyq92nn3k3lvvrp48jzm0000gn/T/ipykernel_9084/2383828689.py:1: DtypeWarning: Columns (36,60,71,127,142,146,149) have mixed types. Specify dtype option on import or set low_memory=False.\n",
      "  elevator = pd.read_csv(\"NYC_elevators.csv\")\n"
     ]
    }
   ],
   "source": [
    "elevator = pd.read_csv(\"NYC_elevators.csv\")"
   ]
  },
  {
   "cell_type": "code",
   "execution_count": 3,
   "id": "0d36f9e1",
   "metadata": {},
   "outputs": [],
   "source": [
    "elevator.drop(columns = [\"JOB_FILING_NUMBER\",\"DEVICE_STATUS\",\"BUILDING_ELEVATOR_NUMBERS\",\"BIS_NYC_DEVICE_ID\",\"ELEVATOR_SUB_TYPE\"\n",
    "                        ,\"PHYSICAL_ADDRESS\",\"ONLY_ELEVATOR_IN_BUILDING\",\"OCCUPANT_EVACUATION_ELEVATOR\",\"DEVICE_CONFIRMING_WITH_SEISMIC_COMPLAINCE\",\"DEVICE_IN_CONJUNCTION_WITH_MTA_STATION\",\"NEW_HOISTWAY\"\n",
    "                        ,\"LOFT_LAW_BUILDING\",\"DEVICE_JOB_DESCRIPTION\",\"MACHINE_MODEL\",\"TYPE_OF_MACHINE_BREAK\",\"CONTROLLER_MODEL\", \"CONTROLLER_LOCATION\"\n",
    "                        ,\"HOIST_ROPE_QTY\",\"HOIST_ROPE_SIZE\",\"CAR_COUNTERWEIGHT_ROPES_QTY\",\"CAR_COUNTERWEIGHT_ROPES_SIZE\",\"CAR_COUNTERWEIGHT_ROPES_ULTIMATE_STRENGTH\"\n",
    "                        ,\"CAR_COUNTERWEIGHT_ROPES_MATERIAL\",\"MACHINE_COUNTERWEIGHT_ROPES_QTY\",\"MACHINE_COUNTERWEIGHT_ROPES_SIZE\",\"MACHINE_COUNTERWEIGHT_ROPES_ULTIMATE_STRENGTH\",\"MACHINE_COUNTERWEIGHT_ROPES_MATERIAL\"\n",
    "                        ,\"CARGOVERNOR_ROPES_QTY\",\"CARGOVERNOR_ROPES_SIZE\",\"CARGOVERNOR_ROPES_ULTIMATE_STRENGTH\",\"CARGOVERNOR_ROPES_MATERIAL\",\"CWTGOVERNOR_ROPES_QTY\"\n",
    "                        ,\"CWTGOVERNOR_ROPES_SIZE\",\"CWTGOVERNOR_ROPES_ULTIMATE_STRENGTH\",\"CWTGOVERNOR_ROPES_MATERIAL\",\"CARGOVERNOR_LOCATION\",\"CWTGOVERNOR_LOCATION\"\n",
    "                        ,\"CWTGOVERNOR_TRIPPING_SPEED\",\"CWTGOVERNOR_TYPE\",\"POWERTYPE\",\"MAIN_SUPPLY_POWER_TYPE\",\"TRAVEL_FROM_FLOOR\"\n",
    "                        ,\"TRAVEL_TO_FLOOR\",\"MODE_OF_OPERATION\",\"GLASS_HOISTWAY\",\"ATRUIM_ELEVATOR\",\"REGENERATIVE_DRIVE\"\n",
    "                        ,\"CAR_SAFETY_TYPE\",\"CAR_SAFETY_TYPE_OTHER\",\"COUNTER_WEIGHT_SAFETY_TYPE\",\"COUNTER_WEIGHT_SAFETY_TYPE_OTHER\",\"CAR_OPENING\"\n",
    "                        ,\"CAR_OPENING_DIRECTION\",\"CONTACT_TYPE\",\"CAR_TO_COUNTERWEIGHT_RATIO\",\"TOP_EMERGENCY_EXIT_MIN_AREA\",\"TOP_EMERGENCY_EXIT_MIN_SIDE\"\n",
    "                        ,\"CAR_INSIDE_WIDTH(FEET)\",\"CAR_INSIDE_WIDTH(INCHES)\",\"CAR_INSIDE_DEPTH(FEET)\",\"CAR_INSIDE_DEPTH(INCHES)\",\"GLASS_CAR\"\n",
    "                        ,\"MULTICOMPARTMENT\",\"HOIST_OPENING\",\"HOIST_DIRECTION\",\"INTERLOCKS_TYPE\",\"ELEVATOR_LANDING\"\n",
    "                        ,\"NUMBER_OF_OPENINGS_FRONT\",\"NUMBER_OF_OPENINGS_SIDE\",\"NUMBER_OF_OPENINGS_REAR\",\"TOTAL_NUMBER_OF_OPENINGS\",\"INTERLOCKIN_BLIND_HOISTWAY\"\n",
    "                        ,\"CAR_BUFFER_TYPE\",\"CAR_BUFFER_ENGAGEMENT_SPEED\",\"CAR_BUFFER_STROKE(FEET)\",\"CAR_BUFFER_STROKE(INCHES)\",\"CAR_BUFFER_REDUCED_STROKE\"\n",
    "                        ,\"COUNTERWEIGHT_BUFFER\",\"COUNTER_WEIGHT_BUFFER_TYPE\",\"COUNTER_WEIGHT_BUFFER_MANUFACTURER\",\"COUNTER_WEIGHT_BUFFER_ENGAGEMENT_SPEED\",\"COUNTER_WEIGHT_BUFFER_STROKE(FEET)\"\n",
    "                        ,\"COUNTER_WEIGHT_BUFFER_STROKE(INCHES)\",\"ELEVATOR_LENGTH(FEET)\",\"ELEVATOR_LENGTH(INCHES)\",\"COUNTER_WEIGHT_BUFFER_REDUCED_STROKE\",\"OCCUPIED_SPACE_BELOW\"\n",
    "                        ,\"ATTENDANT_OPERATION\",\"GLASS_OR_TRANSPARENT\",\"PIT_DEPTH\",\"CONVEYOR_CONFIGURATION\",\"CONVEYOR_SAFETY_DEVICE_TYPE\"\n",
    "                        ,\"CONVEYOR_COUNTER_WEIGHT_SAFETY_DEVICE_TYPE\",\"HOLE_LESS_ELEVATOR\",\"CAR_BUFFER\",\"COUNTER_WEIGHT_BUFFER\",\"ACCESSIBILITY_LIFT\"\n",
    "                        ,\"CONVEYOR_TYPE\",\"MACHINE_JACK_TYPE\",\"OVERLOAD_DEVICE\",\"PLATFORM_LIFT_TYPE\",\"CAR_HOIST_CWT_OR_NONCWT\",\"CAR_HOIST_LOCATION\",\"PRIVATE_RESIDENCE\",\"CAR_HOIST_OPENING\",\"HOIST_CAPACITY\"\n",
    "                        ,\"HOIST_CAR_WEIGHT\",\"HOIST_CAR_MANUFACTURER\",\"HOIST_COUNTER_WEIGHTED\",\"HOIST_MAST_MANUFACTURER\",\"HOIST_SAFETY_SERIAL_NUMBER\",\"HOIST_SAFETY_EXPIRATION_DATE\",\"HOIST_MODEL_NUM\",\"HOIST_SAFETY_CAPACITY\"\n",
    "                        ,\"ESCALATOR_ENERGY_SAVING_FUNCTION(SLEEP_MODE)\",\"ESCALATOR_ANGLE_OF_INCLINATION\",\"ESCALATOR_BRAKE_TORQUE\",\"ESCALATOR_CAPACITY(LBS)\"\n",
    "                        ,\"FLAME_HEAT_SMOKE_PROTECTION_PROVIDED\",\"ESCALATOR_MANUFACTURER\",\"ESCALATOR_MODEL\",\"ESCALATOR_NUMBER_OF_FLAT_STEPS\",\"OUTDOOR_ESCALATOR\"\n",
    "                        ,\"ESCALATOR_RISE(FEET)\",\"ESCALATOR_RISE(INCHES)\",\"ESCALATOR_SPEED\",\"ESCALATOR_STEP_WIDTH(FEET)\",\"ESCALATOR_STEP_WIDTH(INCHES)\"\n",
    "                        ,\"ESCALATOR_TANDEM_OPERATION\",\"ESCALATOR_TRAVEL_FROM_FLOOR\",\"ESCALATOR_TRAVEL_TO_FLOOR\"],inplace=True)\n",
    "\n"
   ]
  },
  {
   "cell_type": "code",
   "execution_count": 4,
   "id": "249f968e",
   "metadata": {},
   "outputs": [],
   "source": [
    "elevator.drop(columns = [\"DEVICE_TYPE\",\"MACHINE_LOCATION\", \"NUMBER_OF_STOPS\",\"MACHINE_MANUFACTURER\",\"CONTROLLER_MANUFACTURER\",\"HOIST_ROPE_MATERIAL\", \"CARGOVERNOR_TYPE\",\"HOIST_ROPE_ULTIMATE_STRENGTH\",\"CARGOVERNOR_TRIPPING_SPEED\",\"COMPENSATION_MEANS\",\"PLUNGER_TYPE\",\"COMPENSATION_TIE_DOWN\"],inplace=True)"
   ]
  },
  {
   "cell_type": "code",
   "execution_count": 5,
   "id": "a09dff2c",
   "metadata": {},
   "outputs": [
    {
     "data": {
      "text/plain": [
       "(35366, 24)"
      ]
     },
     "execution_count": 5,
     "metadata": {},
     "output_type": "execute_result"
    }
   ],
   "source": [
    "elevator.shape"
   ]
  },
  {
   "cell_type": "code",
   "execution_count": 6,
   "id": "f176dfae",
   "metadata": {},
   "outputs": [
    {
     "data": {
      "text/plain": [
       "DEVICE_ID                                 0\n",
       "ELEVATOR_TYPE                          1494\n",
       "MEETS_THE_STRETCHER_CAR_REQUIREMENT    1921\n",
       "FIRE_EMERGENCY_PHASE                   1921\n",
       "DESTINATION_DISPATCH_SYSTEM            1921\n",
       "FIRE_SERVICE_ACCESS_ELEVATOR           1921\n",
       "MACHINE_TYPE                            426\n",
       "TOTAL_TRAVEL(FEET)                      425\n",
       "ELEVATOR_CAPACITY(LBS)                  425\n",
       "ELEVATOR_SPEED(FPM)                     425\n",
       "ELEVATOR_CONTROL                        994\n",
       "LOAD_WEIGHING_DEVICE                   1363\n",
       "CAR_OPENING_OPERATION                  1391\n",
       "ELEVATOR_MANUFACTURER                  1135\n",
       "CAR_INSIDE_AREA                         566\n",
       "SIZED_FOR_STRETCHER_REQUIREMENT        1926\n",
       "ELEVATOR_OPERATION                      977\n",
       "ELEVATOR_DOORFEATURES                   723\n",
       "HOIST_MANUFACTURER                     3027\n",
       "DOOR_MONITORING_CIRCUITS               1919\n",
       "FIRE_RATED_CONSTRUCTION_TYPE            977\n",
       "SELF_CLOSING_EMERGENCY_DOORS           1919\n",
       "CAR_BUFFER_MANUFACTURER                2326\n",
       "COUNTER_WEIGHT_GUARD                   1919\n",
       "dtype: int64"
      ]
     },
     "execution_count": 6,
     "metadata": {},
     "output_type": "execute_result"
    }
   ],
   "source": [
    "elevator.isnull().sum()"
   ]
  },
  {
   "cell_type": "code",
   "execution_count": 7,
   "id": "c4b47f86",
   "metadata": {},
   "outputs": [],
   "source": [
    "elevator = elevator.dropna()"
   ]
  },
  {
   "cell_type": "code",
   "execution_count": 8,
   "id": "01114bec",
   "metadata": {},
   "outputs": [
    {
     "data": {
      "text/plain": [
       "DEVICE_ID                              0\n",
       "ELEVATOR_TYPE                          0\n",
       "MEETS_THE_STRETCHER_CAR_REQUIREMENT    0\n",
       "FIRE_EMERGENCY_PHASE                   0\n",
       "DESTINATION_DISPATCH_SYSTEM            0\n",
       "FIRE_SERVICE_ACCESS_ELEVATOR           0\n",
       "MACHINE_TYPE                           0\n",
       "TOTAL_TRAVEL(FEET)                     0\n",
       "ELEVATOR_CAPACITY(LBS)                 0\n",
       "ELEVATOR_SPEED(FPM)                    0\n",
       "ELEVATOR_CONTROL                       0\n",
       "LOAD_WEIGHING_DEVICE                   0\n",
       "CAR_OPENING_OPERATION                  0\n",
       "ELEVATOR_MANUFACTURER                  0\n",
       "CAR_INSIDE_AREA                        0\n",
       "SIZED_FOR_STRETCHER_REQUIREMENT        0\n",
       "ELEVATOR_OPERATION                     0\n",
       "ELEVATOR_DOORFEATURES                  0\n",
       "HOIST_MANUFACTURER                     0\n",
       "DOOR_MONITORING_CIRCUITS               0\n",
       "FIRE_RATED_CONSTRUCTION_TYPE           0\n",
       "SELF_CLOSING_EMERGENCY_DOORS           0\n",
       "CAR_BUFFER_MANUFACTURER                0\n",
       "COUNTER_WEIGHT_GUARD                   0\n",
       "dtype: int64"
      ]
     },
     "execution_count": 8,
     "metadata": {},
     "output_type": "execute_result"
    }
   ],
   "source": [
    "elevator.isnull().sum()"
   ]
  },
  {
   "cell_type": "code",
   "execution_count": 9,
   "id": "803d36d7",
   "metadata": {},
   "outputs": [
    {
     "name": "stderr",
     "output_type": "stream",
     "text": [
      "/var/folders/3b/x_32pyq92nn3k3lvvrp48jzm0000gn/T/ipykernel_9084/4101791931.py:1: SettingWithCopyWarning: \n",
      "A value is trying to be set on a copy of a slice from a DataFrame.\n",
      "Try using .loc[row_indexer,col_indexer] = value instead\n",
      "\n",
      "See the caveats in the documentation: https://pandas.pydata.org/pandas-docs/stable/user_guide/indexing.html#returning-a-view-versus-a-copy\n",
      "  elevator['ELEVATOR_MANUFACTURER'] = elevator['ELEVATOR_MANUFACTURER'].str.lower()\n",
      "/var/folders/3b/x_32pyq92nn3k3lvvrp48jzm0000gn/T/ipykernel_9084/4101791931.py:2: SettingWithCopyWarning: \n",
      "A value is trying to be set on a copy of a slice from a DataFrame.\n",
      "Try using .loc[row_indexer,col_indexer] = value instead\n",
      "\n",
      "See the caveats in the documentation: https://pandas.pydata.org/pandas-docs/stable/user_guide/indexing.html#returning-a-view-versus-a-copy\n",
      "  elevator['ELEVATOR_MANUFACTURER'] = elevator['ELEVATOR_MANUFACTURER'].str.capitalize()\n",
      "/var/folders/3b/x_32pyq92nn3k3lvvrp48jzm0000gn/T/ipykernel_9084/4101791931.py:3: FutureWarning: The default value of regex will change from True to False in a future version. In addition, single character regular expressions will *not* be treated as literal strings when regex=True.\n",
      "  elevator['ELEVATOR_MANUFACTURER'] = elevator['ELEVATOR_MANUFACTURER'].str.replace('.', '')\n",
      "/var/folders/3b/x_32pyq92nn3k3lvvrp48jzm0000gn/T/ipykernel_9084/4101791931.py:3: SettingWithCopyWarning: \n",
      "A value is trying to be set on a copy of a slice from a DataFrame.\n",
      "Try using .loc[row_indexer,col_indexer] = value instead\n",
      "\n",
      "See the caveats in the documentation: https://pandas.pydata.org/pandas-docs/stable/user_guide/indexing.html#returning-a-view-versus-a-copy\n",
      "  elevator['ELEVATOR_MANUFACTURER'] = elevator['ELEVATOR_MANUFACTURER'].str.replace('.', '')\n"
     ]
    }
   ],
   "source": [
    "elevator['ELEVATOR_MANUFACTURER'] = elevator['ELEVATOR_MANUFACTURER'].str.lower()\n",
    "elevator['ELEVATOR_MANUFACTURER'] = elevator['ELEVATOR_MANUFACTURER'].str.capitalize()\n",
    "elevator['ELEVATOR_MANUFACTURER'] = elevator['ELEVATOR_MANUFACTURER'].str.replace('.', '')"
   ]
  },
  {
   "cell_type": "code",
   "execution_count": 10,
   "id": "a68942a0",
   "metadata": {},
   "outputs": [
    {
     "name": "stderr",
     "output_type": "stream",
     "text": [
      "/var/folders/3b/x_32pyq92nn3k3lvvrp48jzm0000gn/T/ipykernel_9084/207535354.py:1: SettingWithCopyWarning: \n",
      "A value is trying to be set on a copy of a slice from a DataFrame.\n",
      "Try using .loc[row_indexer,col_indexer] = value instead\n",
      "\n",
      "See the caveats in the documentation: https://pandas.pydata.org/pandas-docs/stable/user_guide/indexing.html#returning-a-view-versus-a-copy\n",
      "  elevator['HOIST_MANUFACTURER'] = elevator['HOIST_MANUFACTURER'].str.lower()\n",
      "/var/folders/3b/x_32pyq92nn3k3lvvrp48jzm0000gn/T/ipykernel_9084/207535354.py:2: SettingWithCopyWarning: \n",
      "A value is trying to be set on a copy of a slice from a DataFrame.\n",
      "Try using .loc[row_indexer,col_indexer] = value instead\n",
      "\n",
      "See the caveats in the documentation: https://pandas.pydata.org/pandas-docs/stable/user_guide/indexing.html#returning-a-view-versus-a-copy\n",
      "  elevator['HOIST_MANUFACTURER'] = elevator['HOIST_MANUFACTURER'].str.capitalize()\n",
      "/var/folders/3b/x_32pyq92nn3k3lvvrp48jzm0000gn/T/ipykernel_9084/207535354.py:3: FutureWarning: The default value of regex will change from True to False in a future version. In addition, single character regular expressions will *not* be treated as literal strings when regex=True.\n",
      "  elevator['HOIST_MANUFACTURER'] = elevator['HOIST_MANUFACTURER'].str.replace('.', '')\n",
      "/var/folders/3b/x_32pyq92nn3k3lvvrp48jzm0000gn/T/ipykernel_9084/207535354.py:3: SettingWithCopyWarning: \n",
      "A value is trying to be set on a copy of a slice from a DataFrame.\n",
      "Try using .loc[row_indexer,col_indexer] = value instead\n",
      "\n",
      "See the caveats in the documentation: https://pandas.pydata.org/pandas-docs/stable/user_guide/indexing.html#returning-a-view-versus-a-copy\n",
      "  elevator['HOIST_MANUFACTURER'] = elevator['HOIST_MANUFACTURER'].str.replace('.', '')\n"
     ]
    }
   ],
   "source": [
    "elevator['HOIST_MANUFACTURER'] = elevator['HOIST_MANUFACTURER'].str.lower()\n",
    "elevator['HOIST_MANUFACTURER'] = elevator['HOIST_MANUFACTURER'].str.capitalize()\n",
    "elevator['HOIST_MANUFACTURER'] = elevator['HOIST_MANUFACTURER'].str.replace('.', '')"
   ]
  },
  {
   "cell_type": "code",
   "execution_count": 11,
   "id": "735ad7f2",
   "metadata": {},
   "outputs": [
    {
     "name": "stderr",
     "output_type": "stream",
     "text": [
      "/var/folders/3b/x_32pyq92nn3k3lvvrp48jzm0000gn/T/ipykernel_9084/1895365431.py:1: SettingWithCopyWarning: \n",
      "A value is trying to be set on a copy of a slice from a DataFrame.\n",
      "Try using .loc[row_indexer,col_indexer] = value instead\n",
      "\n",
      "See the caveats in the documentation: https://pandas.pydata.org/pandas-docs/stable/user_guide/indexing.html#returning-a-view-versus-a-copy\n",
      "  elevator['CAR_BUFFER_MANUFACTURER'] = elevator['CAR_BUFFER_MANUFACTURER'].str.lower()\n",
      "/var/folders/3b/x_32pyq92nn3k3lvvrp48jzm0000gn/T/ipykernel_9084/1895365431.py:2: SettingWithCopyWarning: \n",
      "A value is trying to be set on a copy of a slice from a DataFrame.\n",
      "Try using .loc[row_indexer,col_indexer] = value instead\n",
      "\n",
      "See the caveats in the documentation: https://pandas.pydata.org/pandas-docs/stable/user_guide/indexing.html#returning-a-view-versus-a-copy\n",
      "  elevator['CAR_BUFFER_MANUFACTURER'] = elevator['CAR_BUFFER_MANUFACTURER'].str.capitalize()\n",
      "/var/folders/3b/x_32pyq92nn3k3lvvrp48jzm0000gn/T/ipykernel_9084/1895365431.py:3: FutureWarning: The default value of regex will change from True to False in a future version. In addition, single character regular expressions will *not* be treated as literal strings when regex=True.\n",
      "  elevator['CAR_BUFFER_MANUFACTURER'] = elevator['CAR_BUFFER_MANUFACTURER'].str.replace('.', '')\n",
      "/var/folders/3b/x_32pyq92nn3k3lvvrp48jzm0000gn/T/ipykernel_9084/1895365431.py:3: SettingWithCopyWarning: \n",
      "A value is trying to be set on a copy of a slice from a DataFrame.\n",
      "Try using .loc[row_indexer,col_indexer] = value instead\n",
      "\n",
      "See the caveats in the documentation: https://pandas.pydata.org/pandas-docs/stable/user_guide/indexing.html#returning-a-view-versus-a-copy\n",
      "  elevator['CAR_BUFFER_MANUFACTURER'] = elevator['CAR_BUFFER_MANUFACTURER'].str.replace('.', '')\n"
     ]
    }
   ],
   "source": [
    "elevator['CAR_BUFFER_MANUFACTURER'] = elevator['CAR_BUFFER_MANUFACTURER'].str.lower()\n",
    "elevator['CAR_BUFFER_MANUFACTURER'] = elevator['CAR_BUFFER_MANUFACTURER'].str.capitalize()\n",
    "elevator['CAR_BUFFER_MANUFACTURER'] = elevator['CAR_BUFFER_MANUFACTURER'].str.replace('.', '')"
   ]
  },
  {
   "cell_type": "code",
   "execution_count": 12,
   "id": "e2ce4096",
   "metadata": {},
   "outputs": [
    {
     "data": {
      "text/plain": [
       "Gal                  21667\n",
       "Otis                  2651\n",
       "Existing              1976\n",
       "Wittur                 723\n",
       "Tke                    626\n",
       "Eci                    304\n",
       "Westinghouse           287\n",
       "Thyssenkrupp           263\n",
       "Exisitng               197\n",
       "Gal manufacturing      177\n",
       "Name: ELEVATOR_MANUFACTURER, dtype: int64"
      ]
     },
     "execution_count": 12,
     "metadata": {},
     "output_type": "execute_result"
    }
   ],
   "source": [
    "elevator[\"ELEVATOR_MANUFACTURER\"].value_counts().head(10)"
   ]
  },
  {
   "cell_type": "code",
   "execution_count": 13,
   "id": "e79b0e54",
   "metadata": {},
   "outputs": [
    {
     "data": {
      "text/plain": [
       "0        Existing\n",
       "1             Gal\n",
       "3             Gal\n",
       "4             Gal\n",
       "5             Gal\n",
       "           ...   \n",
       "35361      Wittur\n",
       "35362         Gal\n",
       "35363         Gal\n",
       "35364        Otis\n",
       "35365         Gal\n",
       "Name: ELEVATOR_MANUFACTURER, Length: 30880, dtype: object"
      ]
     },
     "execution_count": 13,
     "metadata": {},
     "output_type": "execute_result"
    }
   ],
   "source": [
    "elevator['ELEVATOR_MANUFACTURER']"
   ]
  },
  {
   "cell_type": "code",
   "execution_count": 14,
   "id": "6a099ca8",
   "metadata": {},
   "outputs": [
    {
     "data": {
      "text/plain": [
       "(30880, 24)"
      ]
     },
     "execution_count": 14,
     "metadata": {},
     "output_type": "execute_result"
    }
   ],
   "source": [
    "elevator.shape"
   ]
  },
  {
   "cell_type": "code",
   "execution_count": 15,
   "id": "7a20842e",
   "metadata": {},
   "outputs": [
    {
     "data": {
      "text/html": [
       "<div>\n",
       "<style scoped>\n",
       "    .dataframe tbody tr th:only-of-type {\n",
       "        vertical-align: middle;\n",
       "    }\n",
       "\n",
       "    .dataframe tbody tr th {\n",
       "        vertical-align: top;\n",
       "    }\n",
       "\n",
       "    .dataframe thead th {\n",
       "        text-align: right;\n",
       "    }\n",
       "</style>\n",
       "<table border=\"1\" class=\"dataframe\">\n",
       "  <thead>\n",
       "    <tr style=\"text-align: right;\">\n",
       "      <th></th>\n",
       "      <th>DEVICE_ID</th>\n",
       "      <th>ELEVATOR_TYPE</th>\n",
       "      <th>MEETS_THE_STRETCHER_CAR_REQUIREMENT</th>\n",
       "      <th>FIRE_EMERGENCY_PHASE</th>\n",
       "      <th>DESTINATION_DISPATCH_SYSTEM</th>\n",
       "      <th>FIRE_SERVICE_ACCESS_ELEVATOR</th>\n",
       "      <th>MACHINE_TYPE</th>\n",
       "      <th>TOTAL_TRAVEL(FEET)</th>\n",
       "      <th>ELEVATOR_CAPACITY(LBS)</th>\n",
       "      <th>ELEVATOR_SPEED(FPM)</th>\n",
       "      <th>...</th>\n",
       "      <th>CAR_INSIDE_AREA</th>\n",
       "      <th>SIZED_FOR_STRETCHER_REQUIREMENT</th>\n",
       "      <th>ELEVATOR_OPERATION</th>\n",
       "      <th>ELEVATOR_DOORFEATURES</th>\n",
       "      <th>HOIST_MANUFACTURER</th>\n",
       "      <th>DOOR_MONITORING_CIRCUITS</th>\n",
       "      <th>FIRE_RATED_CONSTRUCTION_TYPE</th>\n",
       "      <th>SELF_CLOSING_EMERGENCY_DOORS</th>\n",
       "      <th>CAR_BUFFER_MANUFACTURER</th>\n",
       "      <th>COUNTER_WEIGHT_GUARD</th>\n",
       "    </tr>\n",
       "  </thead>\n",
       "  <tbody>\n",
       "    <tr>\n",
       "      <th>0</th>\n",
       "      <td>3P1789</td>\n",
       "      <td>Passenger</td>\n",
       "      <td>False</td>\n",
       "      <td>True</td>\n",
       "      <td>False</td>\n",
       "      <td>False</td>\n",
       "      <td>Traction</td>\n",
       "      <td>65.0</td>\n",
       "      <td>1800</td>\n",
       "      <td>100.0</td>\n",
       "      <td>...</td>\n",
       "      <td>22.46</td>\n",
       "      <td>False</td>\n",
       "      <td>Manual</td>\n",
       "      <td>Interlocks</td>\n",
       "      <td>Existing</td>\n",
       "      <td>True</td>\n",
       "      <td>False</td>\n",
       "      <td>False</td>\n",
       "      <td>Existing</td>\n",
       "      <td>True</td>\n",
       "    </tr>\n",
       "    <tr>\n",
       "      <th>1</th>\n",
       "      <td>3P0986060</td>\n",
       "      <td>Passenger</td>\n",
       "      <td>True</td>\n",
       "      <td>True</td>\n",
       "      <td>False</td>\n",
       "      <td>False</td>\n",
       "      <td>Traction</td>\n",
       "      <td>69.0</td>\n",
       "      <td>2500</td>\n",
       "      <td>200.0</td>\n",
       "      <td>...</td>\n",
       "      <td>30.00</td>\n",
       "      <td>True</td>\n",
       "      <td>Power</td>\n",
       "      <td>Interlocks</td>\n",
       "      <td>Gal</td>\n",
       "      <td>True</td>\n",
       "      <td>True</td>\n",
       "      <td>False</td>\n",
       "      <td>Hollister whitney</td>\n",
       "      <td>True</td>\n",
       "    </tr>\n",
       "    <tr>\n",
       "      <th>3</th>\n",
       "      <td>3P0986227</td>\n",
       "      <td>Passenger</td>\n",
       "      <td>True</td>\n",
       "      <td>True</td>\n",
       "      <td>False</td>\n",
       "      <td>False</td>\n",
       "      <td>MRL</td>\n",
       "      <td>64.0</td>\n",
       "      <td>3500</td>\n",
       "      <td>150.0</td>\n",
       "      <td>...</td>\n",
       "      <td>35.00</td>\n",
       "      <td>True</td>\n",
       "      <td>Power</td>\n",
       "      <td>Interlocks</td>\n",
       "      <td>Gal</td>\n",
       "      <td>True</td>\n",
       "      <td>True</td>\n",
       "      <td>False</td>\n",
       "      <td>Amerivator</td>\n",
       "      <td>True</td>\n",
       "    </tr>\n",
       "    <tr>\n",
       "      <th>4</th>\n",
       "      <td>3P0986109</td>\n",
       "      <td>Passenger</td>\n",
       "      <td>True</td>\n",
       "      <td>True</td>\n",
       "      <td>False</td>\n",
       "      <td>False</td>\n",
       "      <td>Traction</td>\n",
       "      <td>69.0</td>\n",
       "      <td>2500</td>\n",
       "      <td>150.0</td>\n",
       "      <td>...</td>\n",
       "      <td>28.69</td>\n",
       "      <td>True</td>\n",
       "      <td>Power</td>\n",
       "      <td>Interlocks</td>\n",
       "      <td>Gal</td>\n",
       "      <td>True</td>\n",
       "      <td>True</td>\n",
       "      <td>False</td>\n",
       "      <td>Amerivator</td>\n",
       "      <td>True</td>\n",
       "    </tr>\n",
       "    <tr>\n",
       "      <th>5</th>\n",
       "      <td>3P880</td>\n",
       "      <td>Passenger</td>\n",
       "      <td>False</td>\n",
       "      <td>True</td>\n",
       "      <td>False</td>\n",
       "      <td>False</td>\n",
       "      <td>Others</td>\n",
       "      <td>70.0</td>\n",
       "      <td>1500</td>\n",
       "      <td>100.0</td>\n",
       "      <td>...</td>\n",
       "      <td>19.06</td>\n",
       "      <td>False</td>\n",
       "      <td>Manual</td>\n",
       "      <td>Interlocks</td>\n",
       "      <td>Gal</td>\n",
       "      <td>True</td>\n",
       "      <td>True</td>\n",
       "      <td>False</td>\n",
       "      <td>Otis</td>\n",
       "      <td>True</td>\n",
       "    </tr>\n",
       "  </tbody>\n",
       "</table>\n",
       "<p>5 rows × 24 columns</p>\n",
       "</div>"
      ],
      "text/plain": [
       "   DEVICE_ID ELEVATOR_TYPE MEETS_THE_STRETCHER_CAR_REQUIREMENT  \\\n",
       "0     3P1789     Passenger                               False   \n",
       "1  3P0986060     Passenger                                True   \n",
       "3  3P0986227     Passenger                                True   \n",
       "4  3P0986109     Passenger                                True   \n",
       "5      3P880     Passenger                               False   \n",
       "\n",
       "  FIRE_EMERGENCY_PHASE DESTINATION_DISPATCH_SYSTEM  \\\n",
       "0                 True                       False   \n",
       "1                 True                       False   \n",
       "3                 True                       False   \n",
       "4                 True                       False   \n",
       "5                 True                       False   \n",
       "\n",
       "  FIRE_SERVICE_ACCESS_ELEVATOR MACHINE_TYPE  TOTAL_TRAVEL(FEET)  \\\n",
       "0                        False     Traction                65.0   \n",
       "1                        False     Traction                69.0   \n",
       "3                        False          MRL                64.0   \n",
       "4                        False     Traction                69.0   \n",
       "5                        False       Others                70.0   \n",
       "\n",
       "  ELEVATOR_CAPACITY(LBS)  ELEVATOR_SPEED(FPM)  ... CAR_INSIDE_AREA  \\\n",
       "0                   1800                100.0  ...           22.46   \n",
       "1                   2500                200.0  ...           30.00   \n",
       "3                   3500                150.0  ...           35.00   \n",
       "4                   2500                150.0  ...           28.69   \n",
       "5                   1500                100.0  ...           19.06   \n",
       "\n",
       "  SIZED_FOR_STRETCHER_REQUIREMENT ELEVATOR_OPERATION ELEVATOR_DOORFEATURES  \\\n",
       "0                           False             Manual            Interlocks   \n",
       "1                            True              Power            Interlocks   \n",
       "3                            True              Power            Interlocks   \n",
       "4                            True              Power            Interlocks   \n",
       "5                           False             Manual            Interlocks   \n",
       "\n",
       "   HOIST_MANUFACTURER DOOR_MONITORING_CIRCUITS FIRE_RATED_CONSTRUCTION_TYPE  \\\n",
       "0            Existing                     True                        False   \n",
       "1                 Gal                     True                         True   \n",
       "3                 Gal                     True                         True   \n",
       "4                 Gal                     True                         True   \n",
       "5                 Gal                     True                         True   \n",
       "\n",
       "  SELF_CLOSING_EMERGENCY_DOORS CAR_BUFFER_MANUFACTURER COUNTER_WEIGHT_GUARD  \n",
       "0                        False                Existing                 True  \n",
       "1                        False       Hollister whitney                 True  \n",
       "3                        False              Amerivator                 True  \n",
       "4                        False              Amerivator                 True  \n",
       "5                        False                    Otis                 True  \n",
       "\n",
       "[5 rows x 24 columns]"
      ]
     },
     "execution_count": 15,
     "metadata": {},
     "output_type": "execute_result"
    }
   ],
   "source": [
    "elevator.head()"
   ]
  },
  {
   "cell_type": "code",
   "execution_count": 16,
   "id": "ec10efaa",
   "metadata": {},
   "outputs": [
    {
     "data": {
      "text/plain": [
       "0        Solid State\n",
       "1        Solid State\n",
       "3        Solid State\n",
       "4        Solid State\n",
       "5        Solid State\n",
       "            ...     \n",
       "35361    Solid State\n",
       "35362    Solid State\n",
       "35363    Solid State\n",
       "35364    Solid State\n",
       "35365    Solid State\n",
       "Name: ELEVATOR_CONTROL, Length: 30880, dtype: object"
      ]
     },
     "execution_count": 16,
     "metadata": {},
     "output_type": "execute_result"
    }
   ],
   "source": [
    "elevator[\"ELEVATOR_CONTROL\"]"
   ]
  },
  {
   "cell_type": "code",
   "execution_count": 18,
   "id": "147e9e72",
   "metadata": {},
   "outputs": [
    {
     "data": {
      "text/html": [
       "<div>\n",
       "<style scoped>\n",
       "    .dataframe tbody tr th:only-of-type {\n",
       "        vertical-align: middle;\n",
       "    }\n",
       "\n",
       "    .dataframe tbody tr th {\n",
       "        vertical-align: top;\n",
       "    }\n",
       "\n",
       "    .dataframe thead th {\n",
       "        text-align: right;\n",
       "    }\n",
       "</style>\n",
       "<table border=\"1\" class=\"dataframe\">\n",
       "  <thead>\n",
       "    <tr style=\"text-align: right;\">\n",
       "      <th></th>\n",
       "      <th>TOTAL_TRAVEL(FEET)</th>\n",
       "      <th>ELEVATOR_SPEED(FPM)</th>\n",
       "      <th>CAR_INSIDE_AREA</th>\n",
       "    </tr>\n",
       "  </thead>\n",
       "  <tbody>\n",
       "    <tr>\n",
       "      <th>count</th>\n",
       "      <td>30880.000000</td>\n",
       "      <td>30880.000000</td>\n",
       "      <td>30880.000000</td>\n",
       "    </tr>\n",
       "    <tr>\n",
       "      <th>mean</th>\n",
       "      <td>154.697826</td>\n",
       "      <td>343.586431</td>\n",
       "      <td>39.421043</td>\n",
       "    </tr>\n",
       "    <tr>\n",
       "      <th>std</th>\n",
       "      <td>709.994886</td>\n",
       "      <td>891.698886</td>\n",
       "      <td>285.487872</td>\n",
       "    </tr>\n",
       "    <tr>\n",
       "      <th>min</th>\n",
       "      <td>0.000000</td>\n",
       "      <td>0.000000</td>\n",
       "      <td>0.000000</td>\n",
       "    </tr>\n",
       "    <tr>\n",
       "      <th>25%</th>\n",
       "      <td>60.000000</td>\n",
       "      <td>125.000000</td>\n",
       "      <td>22.360000</td>\n",
       "    </tr>\n",
       "    <tr>\n",
       "      <th>50%</th>\n",
       "      <td>102.000000</td>\n",
       "      <td>250.000000</td>\n",
       "      <td>27.610000</td>\n",
       "    </tr>\n",
       "    <tr>\n",
       "      <th>75%</th>\n",
       "      <td>190.000000</td>\n",
       "      <td>500.000000</td>\n",
       "      <td>35.445000</td>\n",
       "    </tr>\n",
       "    <tr>\n",
       "      <th>max</th>\n",
       "      <td>120130.000000</td>\n",
       "      <td>110135.000000</td>\n",
       "      <td>39412.000000</td>\n",
       "    </tr>\n",
       "  </tbody>\n",
       "</table>\n",
       "</div>"
      ],
      "text/plain": [
       "       TOTAL_TRAVEL(FEET)  ELEVATOR_SPEED(FPM)  CAR_INSIDE_AREA\n",
       "count        30880.000000         30880.000000     30880.000000\n",
       "mean           154.697826           343.586431        39.421043\n",
       "std            709.994886           891.698886       285.487872\n",
       "min              0.000000             0.000000         0.000000\n",
       "25%             60.000000           125.000000        22.360000\n",
       "50%            102.000000           250.000000        27.610000\n",
       "75%            190.000000           500.000000        35.445000\n",
       "max         120130.000000        110135.000000     39412.000000"
      ]
     },
     "execution_count": 18,
     "metadata": {},
     "output_type": "execute_result"
    }
   ],
   "source": [
    "elevator.describe()"
   ]
  },
  {
   "cell_type": "code",
   "execution_count": 19,
   "id": "72733f45",
   "metadata": {},
   "outputs": [
    {
     "data": {
      "text/plain": [
       "<AxesSubplot:>"
      ]
     },
     "execution_count": 19,
     "metadata": {},
     "output_type": "execute_result"
    },
    {
     "data": {
      "image/png": "[encoded data removed]",
      "text/plain": [
       "<Figure size 432x288 with 1 Axes>"
      ]
     },
     "metadata": {
      "needs_background": "light"
     },
     "output_type": "display_data"
    }
   ],
   "source": [
    "elevator['ELEVATOR_TYPE'].value_counts().plot(kind='bar')"
   ]
  },
  {
   "cell_type": "code",
   "execution_count": 20,
   "id": "9b06f55b",
   "metadata": {},
   "outputs": [
    {
     "data": {
      "text/plain": [
       "Traction           75.579663\n",
       "Hydraulic          13.536269\n",
       "MRL                 7.344560\n",
       "Others              2.380181\n",
       "Drum                1.130181\n",
       "Screw-Column        0.022668\n",
       "Rack and Pinion     0.006477\n",
       "Name: MACHINE_TYPE, dtype: float64"
      ]
     },
     "execution_count": 20,
     "metadata": {},
     "output_type": "execute_result"
    }
   ],
   "source": [
    "elevator[\"MACHINE_TYPE\"].value_counts(normalize = True) * 100"
   ]
  },
  {
   "cell_type": "code",
   "execution_count": 21,
   "id": "ccba78de",
   "metadata": {},
   "outputs": [
    {
     "data": {
      "text/html": [
       "<div>\n",
       "<style scoped>\n",
       "    .dataframe tbody tr th:only-of-type {\n",
       "        vertical-align: middle;\n",
       "    }\n",
       "\n",
       "    .dataframe tbody tr th {\n",
       "        vertical-align: top;\n",
       "    }\n",
       "\n",
       "    .dataframe thead th {\n",
       "        text-align: right;\n",
       "    }\n",
       "</style>\n",
       "<table border=\"1\" class=\"dataframe\">\n",
       "  <thead>\n",
       "    <tr style=\"text-align: right;\">\n",
       "      <th></th>\n",
       "      <th>ELEVATOR_MANUFACTURER</th>\n",
       "      <th>TOTAL_TRAVEL(FEET)</th>\n",
       "    </tr>\n",
       "  </thead>\n",
       "  <tbody>\n",
       "    <tr>\n",
       "      <th>24767</th>\n",
       "      <td>Existing</td>\n",
       "      <td>120130.0</td>\n",
       "    </tr>\n",
       "    <tr>\n",
       "      <th>13527</th>\n",
       "      <td>Gal</td>\n",
       "      <td>14416.0</td>\n",
       "    </tr>\n",
       "    <tr>\n",
       "      <th>26850</th>\n",
       "      <td>Gal</td>\n",
       "      <td>13811.0</td>\n",
       "    </tr>\n",
       "    <tr>\n",
       "      <th>29029</th>\n",
       "      <td>Gal</td>\n",
       "      <td>6533.0</td>\n",
       "    </tr>\n",
       "    <tr>\n",
       "      <th>17499</th>\n",
       "      <td>Schindler</td>\n",
       "      <td>5601.0</td>\n",
       "    </tr>\n",
       "    <tr>\n",
       "      <th>14292</th>\n",
       "      <td>Gal</td>\n",
       "      <td>3764.0</td>\n",
       "    </tr>\n",
       "    <tr>\n",
       "      <th>5921</th>\n",
       "      <td>Gal</td>\n",
       "      <td>3500.0</td>\n",
       "    </tr>\n",
       "    <tr>\n",
       "      <th>15838</th>\n",
       "      <td>Gal</td>\n",
       "      <td>3500.0</td>\n",
       "    </tr>\n",
       "    <tr>\n",
       "      <th>12886</th>\n",
       "      <td>Cec door operator</td>\n",
       "      <td>3454.0</td>\n",
       "    </tr>\n",
       "    <tr>\n",
       "      <th>18334</th>\n",
       "      <td>Gal</td>\n",
       "      <td>3000.0</td>\n",
       "    </tr>\n",
       "  </tbody>\n",
       "</table>\n",
       "</div>"
      ],
      "text/plain": [
       "      ELEVATOR_MANUFACTURER  TOTAL_TRAVEL(FEET)\n",
       "24767              Existing            120130.0\n",
       "13527                   Gal             14416.0\n",
       "26850                   Gal             13811.0\n",
       "29029                   Gal              6533.0\n",
       "17499             Schindler              5601.0\n",
       "14292                   Gal              3764.0\n",
       "5921                    Gal              3500.0\n",
       "15838                   Gal              3500.0\n",
       "12886     Cec door operator              3454.0\n",
       "18334                   Gal              3000.0"
      ]
     },
     "execution_count": 21,
     "metadata": {},
     "output_type": "execute_result"
    }
   ],
   "source": [
    "rslt_df = elevator.sort_values(by = 'TOTAL_TRAVEL(FEET)', ascending=False).head(10)\n",
    "rslt_df[[\"ELEVATOR_MANUFACTURER\",\"TOTAL_TRAVEL(FEET)\"]]"
   ]
  },
  {
   "cell_type": "code",
   "execution_count": 22,
   "id": "f86829c1",
   "metadata": {},
   "outputs": [
    {
     "data": {
      "text/html": [
       "<div>\n",
       "<style scoped>\n",
       "    .dataframe tbody tr th:only-of-type {\n",
       "        vertical-align: middle;\n",
       "    }\n",
       "\n",
       "    .dataframe tbody tr th {\n",
       "        vertical-align: top;\n",
       "    }\n",
       "\n",
       "    .dataframe thead th {\n",
       "        text-align: right;\n",
       "    }\n",
       "</style>\n",
       "<table border=\"1\" class=\"dataframe\">\n",
       "  <thead>\n",
       "    <tr style=\"text-align: right;\">\n",
       "      <th></th>\n",
       "      <th>ELEVATOR_MANUFACTURER</th>\n",
       "      <th>ELEVATOR_SPEED(FPM)</th>\n",
       "    </tr>\n",
       "  </thead>\n",
       "  <tbody>\n",
       "    <tr>\n",
       "      <th>7101</th>\n",
       "      <td>Thyssenkrupp</td>\n",
       "      <td>110135.0</td>\n",
       "    </tr>\n",
       "    <tr>\n",
       "      <th>29263</th>\n",
       "      <td>Gal</td>\n",
       "      <td>100400.0</td>\n",
       "    </tr>\n",
       "    <tr>\n",
       "      <th>29108</th>\n",
       "      <td>Gal</td>\n",
       "      <td>10000.0</td>\n",
       "    </tr>\n",
       "    <tr>\n",
       "      <th>10889</th>\n",
       "      <td>Gal</td>\n",
       "      <td>7000.0</td>\n",
       "    </tr>\n",
       "    <tr>\n",
       "      <th>11458</th>\n",
       "      <td>Gal</td>\n",
       "      <td>5000.0</td>\n",
       "    </tr>\n",
       "    <tr>\n",
       "      <th>32704</th>\n",
       "      <td>Gal</td>\n",
       "      <td>5000.0</td>\n",
       "    </tr>\n",
       "    <tr>\n",
       "      <th>9328</th>\n",
       "      <td>Gal</td>\n",
       "      <td>5000.0</td>\n",
       "    </tr>\n",
       "    <tr>\n",
       "      <th>6911</th>\n",
       "      <td>Gal</td>\n",
       "      <td>4125.0</td>\n",
       "    </tr>\n",
       "    <tr>\n",
       "      <th>8243</th>\n",
       "      <td>Sematic</td>\n",
       "      <td>4000.0</td>\n",
       "    </tr>\n",
       "    <tr>\n",
       "      <th>8238</th>\n",
       "      <td>Sematic</td>\n",
       "      <td>4000.0</td>\n",
       "    </tr>\n",
       "  </tbody>\n",
       "</table>\n",
       "</div>"
      ],
      "text/plain": [
       "      ELEVATOR_MANUFACTURER  ELEVATOR_SPEED(FPM)\n",
       "7101           Thyssenkrupp             110135.0\n",
       "29263                   Gal             100400.0\n",
       "29108                   Gal              10000.0\n",
       "10889                   Gal               7000.0\n",
       "11458                   Gal               5000.0\n",
       "32704                   Gal               5000.0\n",
       "9328                    Gal               5000.0\n",
       "6911                    Gal               4125.0\n",
       "8243                Sematic               4000.0\n",
       "8238                Sematic               4000.0"
      ]
     },
     "execution_count": 22,
     "metadata": {},
     "output_type": "execute_result"
    }
   ],
   "source": [
    "rslt_df = elevator.sort_values(by = 'ELEVATOR_SPEED(FPM)', ascending=False).head(10)\n",
    "rslt_df[[\"ELEVATOR_MANUFACTURER\",\"ELEVATOR_SPEED(FPM)\"]]"
   ]
  },
  {
   "cell_type": "code",
   "execution_count": 23,
   "id": "271927ec",
   "metadata": {},
   "outputs": [
    {
     "data": {
      "text/plain": [
       "0    1800\n",
       "1    2500\n",
       "3    3500\n",
       "4    2500\n",
       "5    1500\n",
       "Name: ELEVATOR_CAPACITY(LBS), dtype: object"
      ]
     },
     "execution_count": 23,
     "metadata": {},
     "output_type": "execute_result"
    }
   ],
   "source": [
    "elevator[\"ELEVATOR_CAPACITY(LBS)\"].head()"
   ]
  },
  {
   "cell_type": "code",
   "execution_count": 25,
   "id": "8e59c261",
   "metadata": {},
   "outputs": [
    {
     "data": {
      "image/png": "[encoded data removed]",
      "text/plain": [
       "<Figure size 1080x1080 with 4 Axes>"
      ]
     },
     "metadata": {
      "needs_background": "light"
     },
     "output_type": "display_data"
    }
   ],
   "source": [
    "elevator.hist(bins=20, figsize=(15,15));"
   ]
  },
  {
   "cell_type": "code",
   "execution_count": 26,
   "id": "b792b874",
   "metadata": {},
   "outputs": [
    {
     "data": {
      "image/png": "[encoded data removed]",
      "text/plain": [
       "<Figure size 720x720 with 1 Axes>"
      ]
     },
     "metadata": {},
     "output_type": "display_data"
    }
   ],
   "source": [
    "plt.subplots(figsize=(10, 10))\n",
    "elevator.groupby('MEETS_THE_STRETCHER_CAR_REQUIREMENT').size().plot(title = \"The percentage of elevators that statisfy the stretcher car requirements\", kind='pie', autopct='%.2f')\n",
    "plt.show()"
   ]
  },
  {
   "cell_type": "code",
   "execution_count": 27,
   "id": "77fb2691",
   "metadata": {},
   "outputs": [
    {
     "data": {
      "image/png": "[encoded data removed]",
      "text/plain": [
       "<Figure size 720x720 with 1 Axes>"
      ]
     },
     "metadata": {},
     "output_type": "display_data"
    }
   ],
   "source": [
    "plt.subplots(figsize=(10, 10))\n",
    "elevator.groupby('FIRE_EMERGENCY_PHASE').size().plot(title = \"The percentage of elevators that have Fire Emergency Phase\", kind='pie', autopct='%.2f')\n",
    "plt.show()"
   ]
  },
  {
   "cell_type": "code",
   "execution_count": 28,
   "id": "8c318f66",
   "metadata": {},
   "outputs": [
    {
     "data": {
      "image/png": "[encoded data removed]",
      "text/plain": [
       "<Figure size 720x720 with 1 Axes>"
      ]
     },
     "metadata": {},
     "output_type": "display_data"
    }
   ],
   "source": [
    "plt.subplots(figsize=(10, 10))\n",
    "elevator.groupby('DESTINATION_DISPATCH_SYSTEM').size().plot(title = \"The percentage of elevators that have Destination Dispatch System\", kind='pie', autopct='%.2f')\n",
    "plt.show()"
   ]
  },
  {
   "cell_type": "code",
   "execution_count": 29,
   "id": "ca40e38c",
   "metadata": {},
   "outputs": [
    {
     "data": {
      "image/png": "[encoded data removed]",
      "text/plain": [
       "<Figure size 720x720 with 1 Axes>"
      ]
     },
     "metadata": {},
     "output_type": "display_data"
    }
   ],
   "source": [
    "plt.subplots(figsize=(10, 10))\n",
    "elevator.groupby('FIRE_SERVICE_ACCESS_ELEVATOR').size().plot(title = \"The percentage of elevators that are Fire Service Accessed\", kind='pie', autopct='%.2f')\n",
    "plt.show()"
   ]
  },
  {
   "cell_type": "code",
   "execution_count": 30,
   "id": "950bd50c",
   "metadata": {},
   "outputs": [
    {
     "data": {
      "text/html": [
       "<div>\n",
       "<style scoped>\n",
       "    .dataframe tbody tr th:only-of-type {\n",
       "        vertical-align: middle;\n",
       "    }\n",
       "\n",
       "    .dataframe tbody tr th {\n",
       "        vertical-align: top;\n",
       "    }\n",
       "\n",
       "    .dataframe thead th {\n",
       "        text-align: right;\n",
       "    }\n",
       "</style>\n",
       "<table border=\"1\" class=\"dataframe\">\n",
       "  <thead>\n",
       "    <tr style=\"text-align: right;\">\n",
       "      <th></th>\n",
       "      <th>ELEVATOR_MANUFACTURER</th>\n",
       "      <th>TOTAL_TRAVEL(FEET)</th>\n",
       "    </tr>\n",
       "  </thead>\n",
       "  <tbody>\n",
       "    <tr>\n",
       "      <th>24767</th>\n",
       "      <td>Existing</td>\n",
       "      <td>120130.0</td>\n",
       "    </tr>\n",
       "    <tr>\n",
       "      <th>13527</th>\n",
       "      <td>Gal</td>\n",
       "      <td>14416.0</td>\n",
       "    </tr>\n",
       "    <tr>\n",
       "      <th>26850</th>\n",
       "      <td>Gal</td>\n",
       "      <td>13811.0</td>\n",
       "    </tr>\n",
       "    <tr>\n",
       "      <th>29029</th>\n",
       "      <td>Gal</td>\n",
       "      <td>6533.0</td>\n",
       "    </tr>\n",
       "    <tr>\n",
       "      <th>17499</th>\n",
       "      <td>Schindler</td>\n",
       "      <td>5601.0</td>\n",
       "    </tr>\n",
       "    <tr>\n",
       "      <th>14292</th>\n",
       "      <td>Gal</td>\n",
       "      <td>3764.0</td>\n",
       "    </tr>\n",
       "    <tr>\n",
       "      <th>5921</th>\n",
       "      <td>Gal</td>\n",
       "      <td>3500.0</td>\n",
       "    </tr>\n",
       "    <tr>\n",
       "      <th>15838</th>\n",
       "      <td>Gal</td>\n",
       "      <td>3500.0</td>\n",
       "    </tr>\n",
       "    <tr>\n",
       "      <th>12886</th>\n",
       "      <td>Cec door operator</td>\n",
       "      <td>3454.0</td>\n",
       "    </tr>\n",
       "    <tr>\n",
       "      <th>18334</th>\n",
       "      <td>Gal</td>\n",
       "      <td>3000.0</td>\n",
       "    </tr>\n",
       "  </tbody>\n",
       "</table>\n",
       "</div>"
      ],
      "text/plain": [
       "      ELEVATOR_MANUFACTURER  TOTAL_TRAVEL(FEET)\n",
       "24767              Existing            120130.0\n",
       "13527                   Gal             14416.0\n",
       "26850                   Gal             13811.0\n",
       "29029                   Gal              6533.0\n",
       "17499             Schindler              5601.0\n",
       "14292                   Gal              3764.0\n",
       "5921                    Gal              3500.0\n",
       "15838                   Gal              3500.0\n",
       "12886     Cec door operator              3454.0\n",
       "18334                   Gal              3000.0"
      ]
     },
     "execution_count": 30,
     "metadata": {},
     "output_type": "execute_result"
    }
   ],
   "source": [
    "rslt_df = elevator.sort_values(by = 'TOTAL_TRAVEL(FEET)', ascending=False).head(10)\n",
    "rslt_df[[\"ELEVATOR_MANUFACTURER\",\"TOTAL_TRAVEL(FEET)\"]]"
   ]
  },
  {
   "cell_type": "code",
   "execution_count": 31,
   "id": "e045b5e4",
   "metadata": {},
   "outputs": [
    {
     "data": {
      "text/html": [
       "<div>\n",
       "<style scoped>\n",
       "    .dataframe tbody tr th:only-of-type {\n",
       "        vertical-align: middle;\n",
       "    }\n",
       "\n",
       "    .dataframe tbody tr th {\n",
       "        vertical-align: top;\n",
       "    }\n",
       "\n",
       "    .dataframe thead th {\n",
       "        text-align: right;\n",
       "    }\n",
       "</style>\n",
       "<table border=\"1\" class=\"dataframe\">\n",
       "  <thead>\n",
       "    <tr style=\"text-align: right;\">\n",
       "      <th></th>\n",
       "      <th>ELEVATOR_MANUFACTURER</th>\n",
       "      <th>ELEVATOR_SPEED(FPM)</th>\n",
       "    </tr>\n",
       "  </thead>\n",
       "  <tbody>\n",
       "    <tr>\n",
       "      <th>7101</th>\n",
       "      <td>Thyssenkrupp</td>\n",
       "      <td>110135.0</td>\n",
       "    </tr>\n",
       "    <tr>\n",
       "      <th>29263</th>\n",
       "      <td>Gal</td>\n",
       "      <td>100400.0</td>\n",
       "    </tr>\n",
       "    <tr>\n",
       "      <th>29108</th>\n",
       "      <td>Gal</td>\n",
       "      <td>10000.0</td>\n",
       "    </tr>\n",
       "    <tr>\n",
       "      <th>10889</th>\n",
       "      <td>Gal</td>\n",
       "      <td>7000.0</td>\n",
       "    </tr>\n",
       "    <tr>\n",
       "      <th>11458</th>\n",
       "      <td>Gal</td>\n",
       "      <td>5000.0</td>\n",
       "    </tr>\n",
       "    <tr>\n",
       "      <th>32704</th>\n",
       "      <td>Gal</td>\n",
       "      <td>5000.0</td>\n",
       "    </tr>\n",
       "    <tr>\n",
       "      <th>9328</th>\n",
       "      <td>Gal</td>\n",
       "      <td>5000.0</td>\n",
       "    </tr>\n",
       "    <tr>\n",
       "      <th>6911</th>\n",
       "      <td>Gal</td>\n",
       "      <td>4125.0</td>\n",
       "    </tr>\n",
       "    <tr>\n",
       "      <th>8243</th>\n",
       "      <td>Sematic</td>\n",
       "      <td>4000.0</td>\n",
       "    </tr>\n",
       "    <tr>\n",
       "      <th>8238</th>\n",
       "      <td>Sematic</td>\n",
       "      <td>4000.0</td>\n",
       "    </tr>\n",
       "  </tbody>\n",
       "</table>\n",
       "</div>"
      ],
      "text/plain": [
       "      ELEVATOR_MANUFACTURER  ELEVATOR_SPEED(FPM)\n",
       "7101           Thyssenkrupp             110135.0\n",
       "29263                   Gal             100400.0\n",
       "29108                   Gal              10000.0\n",
       "10889                   Gal               7000.0\n",
       "11458                   Gal               5000.0\n",
       "32704                   Gal               5000.0\n",
       "9328                    Gal               5000.0\n",
       "6911                    Gal               4125.0\n",
       "8243                Sematic               4000.0\n",
       "8238                Sematic               4000.0"
      ]
     },
     "execution_count": 31,
     "metadata": {},
     "output_type": "execute_result"
    }
   ],
   "source": [
    "rslt_df = elevator.sort_values(by = 'ELEVATOR_SPEED(FPM)', ascending=False).head(10)\n",
    "rslt_df[[\"ELEVATOR_MANUFACTURER\",\"ELEVATOR_SPEED(FPM)\"]]"
   ]
  },
  {
   "cell_type": "code",
   "execution_count": 32,
   "id": "dca29d80",
   "metadata": {},
   "outputs": [
    {
     "data": {
      "image/png": "[encoded data removed]",
      "text/plain": [
       "<Figure size 720x720 with 1 Axes>"
      ]
     },
     "metadata": {},
     "output_type": "display_data"
    }
   ],
   "source": [
    "plt.subplots(figsize=(10, 10))\n",
    "elevator.groupby('ELEVATOR_CONTROL').size().plot(title = \"The percentage of elevators that are Fire Service Accessed\", kind='pie', autopct='%.2f')\n",
    "plt.show()"
   ]
  },
  {
   "cell_type": "code",
   "execution_count": 33,
   "id": "0603d467",
   "metadata": {},
   "outputs": [
    {
     "data": {
      "image/png": "[encoded data removed]",
      "text/plain": [
       "<Figure size 720x720 with 1 Axes>"
      ]
     },
     "metadata": {},
     "output_type": "display_data"
    }
   ],
   "source": [
    "plt.subplots(figsize=(10, 10))\n",
    "elevator.groupby('LOAD_WEIGHING_DEVICE').size().plot(title = \"The percentage of elevators that have Load Weighting Device\", kind='pie', autopct='%.2f')\n",
    "plt.show()"
   ]
  },
  {
   "cell_type": "code",
   "execution_count": 34,
   "id": "9849e603",
   "metadata": {},
   "outputs": [
    {
     "data": {
      "image/png": "[encoded data removed]",
      "text/plain": [
       "<Figure size 720x720 with 1 Axes>"
      ]
     },
     "metadata": {},
     "output_type": "display_data"
    }
   ],
   "source": [
    "plt.subplots(figsize=(10, 10))\n",
    "elevator.groupby('CAR_OPENING_OPERATION').size().plot(title = \"The percentage of elevators that have Car Opening Operation\", kind='pie', autopct='%.2f')\n",
    "plt.show()"
   ]
  },
  {
   "cell_type": "code",
   "execution_count": 35,
   "id": "1ced02e7",
   "metadata": {},
   "outputs": [
    {
     "data": {
      "text/plain": [
       "Gal                  21667\n",
       "Otis                  2651\n",
       "Existing              1976\n",
       "Wittur                 723\n",
       "Tke                    626\n",
       "Eci                    304\n",
       "Westinghouse           287\n",
       "Thyssenkrupp           263\n",
       "Exisitng               197\n",
       "Gal manufacturing      177\n",
       "Name: ELEVATOR_MANUFACTURER, dtype: int64"
      ]
     },
     "execution_count": 35,
     "metadata": {},
     "output_type": "execute_result"
    }
   ],
   "source": [
    "elevator[\"ELEVATOR_MANUFACTURER\"].value_counts().head(10)"
   ]
  },
  {
   "cell_type": "code",
   "execution_count": 36,
   "id": "0598628a",
   "metadata": {},
   "outputs": [
    {
     "data": {
      "text/html": [
       "<div>\n",
       "<style scoped>\n",
       "    .dataframe tbody tr th:only-of-type {\n",
       "        vertical-align: middle;\n",
       "    }\n",
       "\n",
       "    .dataframe tbody tr th {\n",
       "        vertical-align: top;\n",
       "    }\n",
       "\n",
       "    .dataframe thead th {\n",
       "        text-align: right;\n",
       "    }\n",
       "</style>\n",
       "<table border=\"1\" class=\"dataframe\">\n",
       "  <thead>\n",
       "    <tr style=\"text-align: right;\">\n",
       "      <th></th>\n",
       "      <th>ELEVATOR_MANUFACTURER</th>\n",
       "      <th>CAR_INSIDE_AREA</th>\n",
       "    </tr>\n",
       "  </thead>\n",
       "  <tbody>\n",
       "    <tr>\n",
       "      <th>23681</th>\n",
       "      <td>Gal</td>\n",
       "      <td>39412.0</td>\n",
       "    </tr>\n",
       "    <tr>\n",
       "      <th>26499</th>\n",
       "      <td>Gal</td>\n",
       "      <td>5372.0</td>\n",
       "    </tr>\n",
       "    <tr>\n",
       "      <th>21409</th>\n",
       "      <td>Gal</td>\n",
       "      <td>4851.0</td>\n",
       "    </tr>\n",
       "    <tr>\n",
       "      <th>4725</th>\n",
       "      <td>Gal</td>\n",
       "      <td>4402.0</td>\n",
       "    </tr>\n",
       "    <tr>\n",
       "      <th>18881</th>\n",
       "      <td>Gal</td>\n",
       "      <td>4402.0</td>\n",
       "    </tr>\n",
       "    <tr>\n",
       "      <th>28623</th>\n",
       "      <td>Thyssen</td>\n",
       "      <td>4131.0</td>\n",
       "    </tr>\n",
       "    <tr>\n",
       "      <th>34450</th>\n",
       "      <td>Thyssen</td>\n",
       "      <td>4131.0</td>\n",
       "    </tr>\n",
       "    <tr>\n",
       "      <th>27933</th>\n",
       "      <td>Thyssen</td>\n",
       "      <td>4131.0</td>\n",
       "    </tr>\n",
       "    <tr>\n",
       "      <th>673</th>\n",
       "      <td>Fujitec</td>\n",
       "      <td>4092.0</td>\n",
       "    </tr>\n",
       "    <tr>\n",
       "      <th>11706</th>\n",
       "      <td>Fujitec</td>\n",
       "      <td>4092.0</td>\n",
       "    </tr>\n",
       "  </tbody>\n",
       "</table>\n",
       "</div>"
      ],
      "text/plain": [
       "      ELEVATOR_MANUFACTURER  CAR_INSIDE_AREA\n",
       "23681                   Gal          39412.0\n",
       "26499                   Gal           5372.0\n",
       "21409                   Gal           4851.0\n",
       "4725                    Gal           4402.0\n",
       "18881                   Gal           4402.0\n",
       "28623               Thyssen           4131.0\n",
       "34450               Thyssen           4131.0\n",
       "27933               Thyssen           4131.0\n",
       "673                 Fujitec           4092.0\n",
       "11706               Fujitec           4092.0"
      ]
     },
     "execution_count": 36,
     "metadata": {},
     "output_type": "execute_result"
    }
   ],
   "source": [
    "rslt_df = elevator.sort_values(by = 'CAR_INSIDE_AREA', ascending=False).head(10)\n",
    "rslt_df[[\"ELEVATOR_MANUFACTURER\",\"CAR_INSIDE_AREA\"]]"
   ]
  },
  {
   "cell_type": "code",
   "execution_count": 37,
   "id": "272a8bf8",
   "metadata": {},
   "outputs": [
    {
     "data": {
      "image/png": "[encoded data removed]",
      "text/plain": [
       "<Figure size 720x720 with 1 Axes>"
      ]
     },
     "metadata": {},
     "output_type": "display_data"
    }
   ],
   "source": [
    "plt.subplots(figsize=(10, 10))\n",
    "elevator.groupby('SIZED_FOR_STRETCHER_REQUIREMENT').size().plot(title = \"The percentage of elevators that are sized for stretcher requirements\", kind='pie', autopct='%.2f')\n",
    "plt.show()"
   ]
  },
  {
   "cell_type": "code",
   "execution_count": 38,
   "id": "d64f4a90",
   "metadata": {},
   "outputs": [
    {
     "data": {
      "image/png": "[encoded data removed]",
      "text/plain": [
       "<Figure size 720x720 with 1 Axes>"
      ]
     },
     "metadata": {},
     "output_type": "display_data"
    }
   ],
   "source": [
    "plt.subplots(figsize=(10, 10))\n",
    "elevator.groupby('ELEVATOR_OPERATION').size().plot(title = \"The elevators's operation system\", kind='pie', autopct='%.2f')\n",
    "plt.show()"
   ]
  },
  {
   "cell_type": "code",
   "execution_count": 39,
   "id": "a7aca57d",
   "metadata": {},
   "outputs": [
    {
     "data": {
      "image/png": "[encoded data removed]",
      "text/plain": [
       "<Figure size 720x720 with 1 Axes>"
      ]
     },
     "metadata": {},
     "output_type": "display_data"
    }
   ],
   "source": [
    "plt.subplots(figsize=(10, 10))\n",
    "elevator.groupby('ELEVATOR_DOORFEATURES').size().plot(title = \"The elevators's door features\", kind='pie', autopct='%.2f')\n",
    "plt.show()"
   ]
  },
  {
   "cell_type": "code",
   "execution_count": 40,
   "id": "b1366b37",
   "metadata": {},
   "outputs": [
    {
     "data": {
      "text/plain": [
       "Interlocks          30841\n",
       "Locks & Contacts       35\n",
       "Vision Panel            4\n",
       "Name: ELEVATOR_DOORFEATURES, dtype: int64"
      ]
     },
     "execution_count": 40,
     "metadata": {},
     "output_type": "execute_result"
    }
   ],
   "source": [
    "elevator[\"ELEVATOR_DOORFEATURES\"].value_counts().head(10)"
   ]
  },
  {
   "cell_type": "code",
   "execution_count": 41,
   "id": "73d6c248",
   "metadata": {},
   "outputs": [
    {
     "data": {
      "text/plain": [
       "Gal             21779\n",
       "Otis             2740\n",
       "Existing         2024\n",
       "Tke               859\n",
       "Wittur            677\n",
       "Thyssenkrupp      280\n",
       "Eci               270\n",
       "Westinghouse      219\n",
       "Dover             194\n",
       "Exisitng          185\n",
       "Name: HOIST_MANUFACTURER, dtype: int64"
      ]
     },
     "execution_count": 41,
     "metadata": {},
     "output_type": "execute_result"
    }
   ],
   "source": [
    "elevator[\"HOIST_MANUFACTURER\"].value_counts().head(10)"
   ]
  },
  {
   "cell_type": "code",
   "execution_count": 42,
   "id": "b2cc87b2",
   "metadata": {},
   "outputs": [
    {
     "data": {
      "image/png": "[encoded data removed]",
      "text/plain": [
       "<Figure size 720x720 with 1 Axes>"
      ]
     },
     "metadata": {},
     "output_type": "display_data"
    }
   ],
   "source": [
    "plt.subplots(figsize=(10, 10))\n",
    "elevator.groupby('DOOR_MONITORING_CIRCUITS').size().plot(title = \"The percentage of elevators that have door monitoring circuits\", kind='pie', autopct='%.2f')\n",
    "plt.show()"
   ]
  },
  {
   "cell_type": "code",
   "execution_count": 43,
   "id": "0ae2e760",
   "metadata": {},
   "outputs": [
    {
     "data": {
      "image/png": "[encoded data removed]",
      "text/plain": [
       "<Figure size 720x720 with 1 Axes>"
      ]
     },
     "metadata": {},
     "output_type": "display_data"
    }
   ],
   "source": [
    "plt.subplots(figsize=(10, 10))\n",
    "elevator.groupby('FIRE_RATED_CONSTRUCTION_TYPE').size().plot(title = \"The percentage of elevators that have Fire Rated Construction type\", kind='pie', autopct='%.2f')\n",
    "plt.show()"
   ]
  },
  {
   "cell_type": "code",
   "execution_count": 44,
   "id": "70d028e6",
   "metadata": {},
   "outputs": [
    {
     "data": {
      "image/png": "[encoded data removed]",
      "text/plain": [
       "<Figure size 720x720 with 1 Axes>"
      ]
     },
     "metadata": {},
     "output_type": "display_data"
    }
   ],
   "source": [
    "plt.subplots(figsize=(10, 10))\n",
    "elevator.groupby('SELF_CLOSING_EMERGENCY_DOORS').size().plot(title = \"The percentage of elevators that have self-closing emergency doors\", kind='pie', autopct='%.2f')\n",
    "plt.show()"
   ]
  },
  {
   "cell_type": "code",
   "execution_count": 45,
   "id": "935e7bc9",
   "metadata": {},
   "outputs": [
    {
     "data": {
      "text/plain": [
       "Existing             7005\n",
       "Otis                 5275\n",
       "Hollister whitney    3484\n",
       "Hw                   2033\n",
       "Westinghouse         1833\n",
       "Oleo                 1367\n",
       "Tke                   895\n",
       "Kone                  662\n",
       "Exisitng              641\n",
       "Canton                501\n",
       "Name: CAR_BUFFER_MANUFACTURER, dtype: int64"
      ]
     },
     "execution_count": 45,
     "metadata": {},
     "output_type": "execute_result"
    }
   ],
   "source": [
    "elevator[\"CAR_BUFFER_MANUFACTURER\"].value_counts().head(10)"
   ]
  },
  {
   "cell_type": "code",
   "execution_count": 46,
   "id": "abc1f28c",
   "metadata": {},
   "outputs": [
    {
     "data": {
      "image/png": "[encoded data removed]",
      "text/plain": [
       "<Figure size 720x720 with 1 Axes>"
      ]
     },
     "metadata": {},
     "output_type": "display_data"
    }
   ],
   "source": [
    "plt.subplots(figsize=(10, 10))\n",
    "elevator.groupby('COUNTER_WEIGHT_GUARD').size().plot(title = \"The percentage of elevators that have Counter Weight Guard\", kind='pie', autopct='%.2f')\n",
    "plt.show()"
   ]
  },
  {
   "cell_type": "code",
   "execution_count": 47,
   "id": "33d2344b",
   "metadata": {},
   "outputs": [
    {
     "data": {
      "text/plain": [
       "Gal                  21667\n",
       "Otis                  2651\n",
       "Existing              1976\n",
       "Wittur                 723\n",
       "Tke                    626\n",
       "Eci                    304\n",
       "Westinghouse           287\n",
       "Thyssenkrupp           263\n",
       "Exisitng               197\n",
       "Gal manufacturing      177\n",
       "Name: ELEVATOR_MANUFACTURER, dtype: int64"
      ]
     },
     "execution_count": 47,
     "metadata": {},
     "output_type": "execute_result"
    }
   ],
   "source": [
    "elevator[\"ELEVATOR_MANUFACTURER\"].value_counts().head(10)"
   ]
  },
  {
   "cell_type": "code",
   "execution_count": 48,
   "id": "aa1e7b8a",
   "metadata": {},
   "outputs": [
    {
     "name": "stdout",
     "output_type": "stream",
     "text": [
      "Chi-Square Value: 424.5117646600694\n",
      "P-value: 2.5434292421559705e-94\n"
     ]
    }
   ],
   "source": [
    "contingency_table = pd.crosstab(elevator['MEETS_THE_STRETCHER_CAR_REQUIREMENT'], elevator['DESTINATION_DISPATCH_SYSTEM'])\n",
    "chi2, p, _, _ = chi2_contingency(contingency_table)\n",
    "\n",
    "print(f\"Chi-Square Value: {chi2}\")\n",
    "print(f\"P-value: {p}\")\n",
    "## If the p-value is less than a chosen significance level (e.g., 0.05), you can reject the null hypothesis and conclude that there is a significant relationship."
   ]
  },
  {
   "cell_type": "code",
   "execution_count": 49,
   "id": "4c0a811b",
   "metadata": {},
   "outputs": [
    {
     "name": "stdout",
     "output_type": "stream",
     "text": [
      "Chi-Square Value: 4.928591745298074\n",
      "P-value: 0.026415836260233496\n"
     ]
    }
   ],
   "source": [
    "contingency_table = pd.crosstab(elevator['FIRE_SERVICE_ACCESS_ELEVATOR'], elevator['FIRE_RATED_CONSTRUCTION_TYPE'])\n",
    "chi2, p, _, _ = chi2_contingency(contingency_table)\n",
    "\n",
    "print(f\"Chi-Square Value: {chi2}\")\n",
    "print(f\"P-value: {p}\")"
   ]
  },
  {
   "cell_type": "code",
   "execution_count": 50,
   "id": "2d8618bb",
   "metadata": {},
   "outputs": [
    {
     "data": {
      "text/plain": [
       "<AxesSubplot:>"
      ]
     },
     "execution_count": 50,
     "metadata": {},
     "output_type": "execute_result"
    },
    {
     "data": {
      "image/png": "[encoded data removed]",
      "text/plain": [
       "<Figure size 1080x576 with 2 Axes>"
      ]
     },
     "metadata": {},
     "output_type": "display_data"
    }
   ],
   "source": [
    "sns.set(rc = {'figure.figsize':(15,8)})\n",
    "cor = elevator.corr()\n",
    "sns.heatmap(elevator.corr(), annot = True, cmap='viridis')"
   ]
  },
  {
   "cell_type": "code",
   "execution_count": 51,
   "id": "764eb5d6",
   "metadata": {},
   "outputs": [
    {
     "data": {
      "text/plain": [
       "Passenger    30393\n",
       "Freight        445\n",
       "Sidewalk        42\n",
       "Name: ELEVATOR_TYPE, dtype: int64"
      ]
     },
     "execution_count": 51,
     "metadata": {},
     "output_type": "execute_result"
    }
   ],
   "source": [
    "elevator[\"ELEVATOR_TYPE\"].value_counts().head(10)"
   ]
  },
  {
   "cell_type": "code",
   "execution_count": 52,
   "id": "1ae78ac6",
   "metadata": {},
   "outputs": [
    {
     "data": {
      "text/html": [
       "<div>\n",
       "<style scoped>\n",
       "    .dataframe tbody tr th:only-of-type {\n",
       "        vertical-align: middle;\n",
       "    }\n",
       "\n",
       "    .dataframe tbody tr th {\n",
       "        vertical-align: top;\n",
       "    }\n",
       "\n",
       "    .dataframe thead th {\n",
       "        text-align: right;\n",
       "    }\n",
       "</style>\n",
       "<table border=\"1\" class=\"dataframe\">\n",
       "  <thead>\n",
       "    <tr style=\"text-align: right;\">\n",
       "      <th></th>\n",
       "      <th>DEVICE_ID</th>\n",
       "      <th>ELEVATOR_TYPE</th>\n",
       "      <th>MEETS_THE_STRETCHER_CAR_REQUIREMENT</th>\n",
       "      <th>FIRE_EMERGENCY_PHASE</th>\n",
       "      <th>DESTINATION_DISPATCH_SYSTEM</th>\n",
       "      <th>FIRE_SERVICE_ACCESS_ELEVATOR</th>\n",
       "      <th>MACHINE_TYPE</th>\n",
       "      <th>TOTAL_TRAVEL(FEET)</th>\n",
       "      <th>ELEVATOR_CAPACITY(LBS)</th>\n",
       "      <th>ELEVATOR_SPEED(FPM)</th>\n",
       "      <th>...</th>\n",
       "      <th>CAR_INSIDE_AREA</th>\n",
       "      <th>SIZED_FOR_STRETCHER_REQUIREMENT</th>\n",
       "      <th>ELEVATOR_OPERATION</th>\n",
       "      <th>ELEVATOR_DOORFEATURES</th>\n",
       "      <th>HOIST_MANUFACTURER</th>\n",
       "      <th>DOOR_MONITORING_CIRCUITS</th>\n",
       "      <th>FIRE_RATED_CONSTRUCTION_TYPE</th>\n",
       "      <th>SELF_CLOSING_EMERGENCY_DOORS</th>\n",
       "      <th>CAR_BUFFER_MANUFACTURER</th>\n",
       "      <th>COUNTER_WEIGHT_GUARD</th>\n",
       "    </tr>\n",
       "  </thead>\n",
       "  <tbody>\n",
       "    <tr>\n",
       "      <th>0</th>\n",
       "      <td>3P1789</td>\n",
       "      <td>Passenger</td>\n",
       "      <td>False</td>\n",
       "      <td>True</td>\n",
       "      <td>False</td>\n",
       "      <td>False</td>\n",
       "      <td>Traction</td>\n",
       "      <td>65.0</td>\n",
       "      <td>1800</td>\n",
       "      <td>100.0</td>\n",
       "      <td>...</td>\n",
       "      <td>22.46</td>\n",
       "      <td>False</td>\n",
       "      <td>Manual</td>\n",
       "      <td>Interlocks</td>\n",
       "      <td>Existing</td>\n",
       "      <td>True</td>\n",
       "      <td>False</td>\n",
       "      <td>False</td>\n",
       "      <td>Existing</td>\n",
       "      <td>True</td>\n",
       "    </tr>\n",
       "    <tr>\n",
       "      <th>1</th>\n",
       "      <td>3P0986060</td>\n",
       "      <td>Passenger</td>\n",
       "      <td>True</td>\n",
       "      <td>True</td>\n",
       "      <td>False</td>\n",
       "      <td>False</td>\n",
       "      <td>Traction</td>\n",
       "      <td>69.0</td>\n",
       "      <td>2500</td>\n",
       "      <td>200.0</td>\n",
       "      <td>...</td>\n",
       "      <td>30.00</td>\n",
       "      <td>True</td>\n",
       "      <td>Power</td>\n",
       "      <td>Interlocks</td>\n",
       "      <td>Gal</td>\n",
       "      <td>True</td>\n",
       "      <td>True</td>\n",
       "      <td>False</td>\n",
       "      <td>Hollister whitney</td>\n",
       "      <td>True</td>\n",
       "    </tr>\n",
       "    <tr>\n",
       "      <th>3</th>\n",
       "      <td>3P0986227</td>\n",
       "      <td>Passenger</td>\n",
       "      <td>True</td>\n",
       "      <td>True</td>\n",
       "      <td>False</td>\n",
       "      <td>False</td>\n",
       "      <td>MRL</td>\n",
       "      <td>64.0</td>\n",
       "      <td>3500</td>\n",
       "      <td>150.0</td>\n",
       "      <td>...</td>\n",
       "      <td>35.00</td>\n",
       "      <td>True</td>\n",
       "      <td>Power</td>\n",
       "      <td>Interlocks</td>\n",
       "      <td>Gal</td>\n",
       "      <td>True</td>\n",
       "      <td>True</td>\n",
       "      <td>False</td>\n",
       "      <td>Amerivator</td>\n",
       "      <td>True</td>\n",
       "    </tr>\n",
       "    <tr>\n",
       "      <th>4</th>\n",
       "      <td>3P0986109</td>\n",
       "      <td>Passenger</td>\n",
       "      <td>True</td>\n",
       "      <td>True</td>\n",
       "      <td>False</td>\n",
       "      <td>False</td>\n",
       "      <td>Traction</td>\n",
       "      <td>69.0</td>\n",
       "      <td>2500</td>\n",
       "      <td>150.0</td>\n",
       "      <td>...</td>\n",
       "      <td>28.69</td>\n",
       "      <td>True</td>\n",
       "      <td>Power</td>\n",
       "      <td>Interlocks</td>\n",
       "      <td>Gal</td>\n",
       "      <td>True</td>\n",
       "      <td>True</td>\n",
       "      <td>False</td>\n",
       "      <td>Amerivator</td>\n",
       "      <td>True</td>\n",
       "    </tr>\n",
       "    <tr>\n",
       "      <th>5</th>\n",
       "      <td>3P880</td>\n",
       "      <td>Passenger</td>\n",
       "      <td>False</td>\n",
       "      <td>True</td>\n",
       "      <td>False</td>\n",
       "      <td>False</td>\n",
       "      <td>Others</td>\n",
       "      <td>70.0</td>\n",
       "      <td>1500</td>\n",
       "      <td>100.0</td>\n",
       "      <td>...</td>\n",
       "      <td>19.06</td>\n",
       "      <td>False</td>\n",
       "      <td>Manual</td>\n",
       "      <td>Interlocks</td>\n",
       "      <td>Gal</td>\n",
       "      <td>True</td>\n",
       "      <td>True</td>\n",
       "      <td>False</td>\n",
       "      <td>Otis</td>\n",
       "      <td>True</td>\n",
       "    </tr>\n",
       "    <tr>\n",
       "      <th>...</th>\n",
       "      <td>...</td>\n",
       "      <td>...</td>\n",
       "      <td>...</td>\n",
       "      <td>...</td>\n",
       "      <td>...</td>\n",
       "      <td>...</td>\n",
       "      <td>...</td>\n",
       "      <td>...</td>\n",
       "      <td>...</td>\n",
       "      <td>...</td>\n",
       "      <td>...</td>\n",
       "      <td>...</td>\n",
       "      <td>...</td>\n",
       "      <td>...</td>\n",
       "      <td>...</td>\n",
       "      <td>...</td>\n",
       "      <td>...</td>\n",
       "      <td>...</td>\n",
       "      <td>...</td>\n",
       "      <td>...</td>\n",
       "      <td>...</td>\n",
       "    </tr>\n",
       "    <tr>\n",
       "      <th>35361</th>\n",
       "      <td>1P0986852</td>\n",
       "      <td>Passenger</td>\n",
       "      <td>True</td>\n",
       "      <td>True</td>\n",
       "      <td>False</td>\n",
       "      <td>False</td>\n",
       "      <td>MRL</td>\n",
       "      <td>47.0</td>\n",
       "      <td>3500</td>\n",
       "      <td>150.0</td>\n",
       "      <td>...</td>\n",
       "      <td>35.29</td>\n",
       "      <td>False</td>\n",
       "      <td>Power</td>\n",
       "      <td>Interlocks</td>\n",
       "      <td>Wittur</td>\n",
       "      <td>True</td>\n",
       "      <td>True</td>\n",
       "      <td>False</td>\n",
       "      <td>Kone</td>\n",
       "      <td>False</td>\n",
       "    </tr>\n",
       "    <tr>\n",
       "      <th>35362</th>\n",
       "      <td>1P24490</td>\n",
       "      <td>Passenger</td>\n",
       "      <td>False</td>\n",
       "      <td>True</td>\n",
       "      <td>False</td>\n",
       "      <td>False</td>\n",
       "      <td>Traction</td>\n",
       "      <td>170.0</td>\n",
       "      <td>2,000</td>\n",
       "      <td>250.0</td>\n",
       "      <td>...</td>\n",
       "      <td>24.08</td>\n",
       "      <td>True</td>\n",
       "      <td>Power</td>\n",
       "      <td>Interlocks</td>\n",
       "      <td>Gal</td>\n",
       "      <td>True</td>\n",
       "      <td>True</td>\n",
       "      <td>False</td>\n",
       "      <td>Existing</td>\n",
       "      <td>False</td>\n",
       "    </tr>\n",
       "    <tr>\n",
       "      <th>35363</th>\n",
       "      <td>1P24088</td>\n",
       "      <td>Passenger</td>\n",
       "      <td>True</td>\n",
       "      <td>True</td>\n",
       "      <td>True</td>\n",
       "      <td>False</td>\n",
       "      <td>Traction</td>\n",
       "      <td>100.0</td>\n",
       "      <td>4000</td>\n",
       "      <td>500.0</td>\n",
       "      <td>...</td>\n",
       "      <td>38.37</td>\n",
       "      <td>True</td>\n",
       "      <td>Power</td>\n",
       "      <td>Interlocks</td>\n",
       "      <td>Gal</td>\n",
       "      <td>False</td>\n",
       "      <td>True</td>\n",
       "      <td>False</td>\n",
       "      <td>Westinghouse</td>\n",
       "      <td>False</td>\n",
       "    </tr>\n",
       "    <tr>\n",
       "      <th>35364</th>\n",
       "      <td>1P24366</td>\n",
       "      <td>Passenger</td>\n",
       "      <td>False</td>\n",
       "      <td>True</td>\n",
       "      <td>False</td>\n",
       "      <td>False</td>\n",
       "      <td>Traction</td>\n",
       "      <td>844.0</td>\n",
       "      <td>4000</td>\n",
       "      <td>800.0</td>\n",
       "      <td>...</td>\n",
       "      <td>64.75</td>\n",
       "      <td>False</td>\n",
       "      <td>Power</td>\n",
       "      <td>Interlocks</td>\n",
       "      <td>Otis</td>\n",
       "      <td>True</td>\n",
       "      <td>True</td>\n",
       "      <td>False</td>\n",
       "      <td>Otis</td>\n",
       "      <td>True</td>\n",
       "    </tr>\n",
       "    <tr>\n",
       "      <th>35365</th>\n",
       "      <td>3P0989587</td>\n",
       "      <td>Passenger</td>\n",
       "      <td>True</td>\n",
       "      <td>True</td>\n",
       "      <td>False</td>\n",
       "      <td>False</td>\n",
       "      <td>MRL</td>\n",
       "      <td>60.0</td>\n",
       "      <td>3500</td>\n",
       "      <td>200.0</td>\n",
       "      <td>...</td>\n",
       "      <td>36.11</td>\n",
       "      <td>True</td>\n",
       "      <td>Power</td>\n",
       "      <td>Interlocks</td>\n",
       "      <td>Gal</td>\n",
       "      <td>True</td>\n",
       "      <td>True</td>\n",
       "      <td>False</td>\n",
       "      <td>Amerivator</td>\n",
       "      <td>True</td>\n",
       "    </tr>\n",
       "  </tbody>\n",
       "</table>\n",
       "<p>30880 rows × 24 columns</p>\n",
       "</div>"
      ],
      "text/plain": [
       "       DEVICE_ID ELEVATOR_TYPE MEETS_THE_STRETCHER_CAR_REQUIREMENT  \\\n",
       "0         3P1789     Passenger                               False   \n",
       "1      3P0986060     Passenger                                True   \n",
       "3      3P0986227     Passenger                                True   \n",
       "4      3P0986109     Passenger                                True   \n",
       "5          3P880     Passenger                               False   \n",
       "...          ...           ...                                 ...   \n",
       "35361  1P0986852     Passenger                                True   \n",
       "35362    1P24490     Passenger                               False   \n",
       "35363    1P24088     Passenger                                True   \n",
       "35364    1P24366     Passenger                               False   \n",
       "35365  3P0989587     Passenger                                True   \n",
       "\n",
       "      FIRE_EMERGENCY_PHASE DESTINATION_DISPATCH_SYSTEM  \\\n",
       "0                     True                       False   \n",
       "1                     True                       False   \n",
       "3                     True                       False   \n",
       "4                     True                       False   \n",
       "5                     True                       False   \n",
       "...                    ...                         ...   \n",
       "35361                 True                       False   \n",
       "35362                 True                       False   \n",
       "35363                 True                        True   \n",
       "35364                 True                       False   \n",
       "35365                 True                       False   \n",
       "\n",
       "      FIRE_SERVICE_ACCESS_ELEVATOR MACHINE_TYPE  TOTAL_TRAVEL(FEET)  \\\n",
       "0                            False     Traction                65.0   \n",
       "1                            False     Traction                69.0   \n",
       "3                            False          MRL                64.0   \n",
       "4                            False     Traction                69.0   \n",
       "5                            False       Others                70.0   \n",
       "...                            ...          ...                 ...   \n",
       "35361                        False          MRL                47.0   \n",
       "35362                        False     Traction               170.0   \n",
       "35363                        False     Traction               100.0   \n",
       "35364                        False     Traction               844.0   \n",
       "35365                        False          MRL                60.0   \n",
       "\n",
       "      ELEVATOR_CAPACITY(LBS)  ELEVATOR_SPEED(FPM)  ... CAR_INSIDE_AREA  \\\n",
       "0                       1800                100.0  ...           22.46   \n",
       "1                       2500                200.0  ...           30.00   \n",
       "3                       3500                150.0  ...           35.00   \n",
       "4                       2500                150.0  ...           28.69   \n",
       "5                       1500                100.0  ...           19.06   \n",
       "...                      ...                  ...  ...             ...   \n",
       "35361                   3500                150.0  ...           35.29   \n",
       "35362                  2,000                250.0  ...           24.08   \n",
       "35363                   4000                500.0  ...           38.37   \n",
       "35364                   4000                800.0  ...           64.75   \n",
       "35365                   3500                200.0  ...           36.11   \n",
       "\n",
       "      SIZED_FOR_STRETCHER_REQUIREMENT ELEVATOR_OPERATION  \\\n",
       "0                               False             Manual   \n",
       "1                                True              Power   \n",
       "3                                True              Power   \n",
       "4                                True              Power   \n",
       "5                               False             Manual   \n",
       "...                               ...                ...   \n",
       "35361                           False              Power   \n",
       "35362                            True              Power   \n",
       "35363                            True              Power   \n",
       "35364                           False              Power   \n",
       "35365                            True              Power   \n",
       "\n",
       "      ELEVATOR_DOORFEATURES  HOIST_MANUFACTURER DOOR_MONITORING_CIRCUITS  \\\n",
       "0                Interlocks            Existing                     True   \n",
       "1                Interlocks                 Gal                     True   \n",
       "3                Interlocks                 Gal                     True   \n",
       "4                Interlocks                 Gal                     True   \n",
       "5                Interlocks                 Gal                     True   \n",
       "...                     ...                 ...                      ...   \n",
       "35361            Interlocks              Wittur                     True   \n",
       "35362            Interlocks                 Gal                     True   \n",
       "35363            Interlocks                 Gal                    False   \n",
       "35364            Interlocks                Otis                     True   \n",
       "35365            Interlocks                 Gal                     True   \n",
       "\n",
       "      FIRE_RATED_CONSTRUCTION_TYPE SELF_CLOSING_EMERGENCY_DOORS  \\\n",
       "0                            False                        False   \n",
       "1                             True                        False   \n",
       "3                             True                        False   \n",
       "4                             True                        False   \n",
       "5                             True                        False   \n",
       "...                            ...                          ...   \n",
       "35361                         True                        False   \n",
       "35362                         True                        False   \n",
       "35363                         True                        False   \n",
       "35364                         True                        False   \n",
       "35365                         True                        False   \n",
       "\n",
       "      CAR_BUFFER_MANUFACTURER COUNTER_WEIGHT_GUARD  \n",
       "0                    Existing                 True  \n",
       "1           Hollister whitney                 True  \n",
       "3                  Amerivator                 True  \n",
       "4                  Amerivator                 True  \n",
       "5                        Otis                 True  \n",
       "...                       ...                  ...  \n",
       "35361                    Kone                False  \n",
       "35362                Existing                False  \n",
       "35363            Westinghouse                False  \n",
       "35364                    Otis                 True  \n",
       "35365              Amerivator                 True  \n",
       "\n",
       "[30880 rows x 24 columns]"
      ]
     },
     "execution_count": 52,
     "metadata": {},
     "output_type": "execute_result"
    }
   ],
   "source": [
    "elevator"
   ]
  },
  {
   "cell_type": "code",
   "execution_count": 53,
   "id": "bce7c998",
   "metadata": {},
   "outputs": [],
   "source": [
    "elevator.to_csv('elevators_filtered.csv')"
   ]
  },
  {
   "cell_type": "code",
   "execution_count": 54,
   "id": "cc83da8f",
   "metadata": {},
   "outputs": [
    {
     "data": {
      "text/plain": [
       "Traction           23339\n",
       "Hydraulic           4180\n",
       "MRL                 2268\n",
       "Others               735\n",
       "Drum                 349\n",
       "Screw-Column           7\n",
       "Rack and Pinion        2\n",
       "Name: MACHINE_TYPE, dtype: int64"
      ]
     },
     "execution_count": 54,
     "metadata": {},
     "output_type": "execute_result"
    }
   ],
   "source": [
    "elevator[\"MACHINE_TYPE\"].value_counts().head(10)"
   ]
  },
  {
   "cell_type": "code",
   "execution_count": 55,
   "id": "259489a2",
   "metadata": {},
   "outputs": [
    {
     "ename": "NameError",
     "evalue": "name 'mean' is not defined",
     "output_type": "error",
     "traceback": [
      "\u001b[0;31m---------------------------------------------------------------------------\u001b[0m",
      "\u001b[0;31mNameError\u001b[0m                                 Traceback (most recent call last)",
      "Input \u001b[0;32mIn [55]\u001b[0m, in \u001b[0;36m<cell line: 1>\u001b[0;34m()\u001b[0m\n\u001b[0;32m----> 1\u001b[0m \u001b[43mmean\u001b[49m(elevator[CAR_INSIDE_AREA])\n",
      "\u001b[0;31mNameError\u001b[0m: name 'mean' is not defined"
     ]
    }
   ],
   "source": [
    "mean(elevator[CAR_INSIDE_AREA])"
   ]
  },
  {
   "cell_type": "code",
   "execution_count": null,
   "id": "838817dd",
   "metadata": {},
   "outputs": [],
   "source": []
  }
 ],
 "metadata": {
  "kernelspec": {
   "display_name": "Python 3 (ipykernel)",
   "language": "python",
   "name": "python3"
  },
  "language_info": {
   "codemirror_mode": {
    "name": "ipython",
    "version": 3
   },
   "file_extension": ".py",
   "mimetype": "text/x-python",
   "name": "python",
   "nbconvert_exporter": "python",
   "pygments_lexer": "ipython3",
   "version": "3.9.12"
  }
 },
 "nbformat": 4,
 "nbformat_minor": 5
}
